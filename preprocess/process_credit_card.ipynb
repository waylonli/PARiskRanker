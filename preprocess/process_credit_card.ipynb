{
 "cells": [
  {
   "cell_type": "code",
   "id": "initial_id",
   "metadata": {
    "collapsed": true
   },
   "source": [
    "import pandas as pd\n",
    "from tqdm import tqdm\n",
    "import math\n",
    "import os\n",
    "import numpy as np"
   ],
   "outputs": [],
   "execution_count": null
  },
  {
   "metadata": {},
   "cell_type": "code",
   "source": "credit_data = pd.read_csv(\"../data/creditcard/creditcard.csv\")",
   "id": "9c033bcc96d66338",
   "outputs": [],
   "execution_count": null
  },
  {
   "cell_type": "code",
   "source": [
    "import pandas as pd\n",
    "import numpy as np\n",
    "import os\n",
    "from math import floor\n",
    "\n",
    "# Reset Class label as the top 1% amount as class 1\n",
    "credit_data = credit_data.sort_values(\"Amount\", ascending=False)\n",
    "credit_data['Class'] = np.where(\n",
    "    np.arange(len(credit_data)) < floor(len(credit_data) * 0.01), 1, 0\n",
    ")\n",
    "\n",
    "group_sizes = [20, 30, 50, 100, 200]\n",
    "random_seeds = [42, 2024, 2025]\n",
    "\n",
    "for fold, random_seed in zip(range(1, 4), random_seeds):\n",
    "    # Consistent split per fold\n",
    "    credit_data_shuffled = credit_data.sample(frac=1, random_state=random_seed).reset_index(drop=True)\n",
    "    total_samples = len(credit_data_shuffled)\n",
    "    n_train = floor(total_samples * 0.7)\n",
    "    n_val = floor(total_samples * 0.1)\n",
    "    n_test = total_samples - n_train - n_val\n",
    "\n",
    "    split_dict = {\n",
    "        \"train\": credit_data_shuffled.iloc[:n_train].reset_index(drop=True),\n",
    "        \"val\": credit_data_shuffled.iloc[n_train:n_train + n_val].reset_index(drop=True),\n",
    "        \"test\": credit_data_shuffled.iloc[n_train + n_val:].reset_index(drop=True)\n",
    "    }\n",
    "\n",
    "    for group_size in group_sizes:\n",
    "        for split_name, split_df in split_dict.items():\n",
    "            split_class_0 = split_df[split_df[\"Class\"] == 0]\n",
    "            split_class_1 = split_df[split_df[\"Class\"] == 1]\n",
    "\n",
    "            n_groups = len(split_df) // group_size\n",
    "            groups = []\n",
    "\n",
    "            if len(split_class_1) >= n_groups:\n",
    "                selected_class1 = split_class_1.sample(n=n_groups, random_state=random_seed)\n",
    "                split_class_0_shuffled = split_class_0.sample(frac=1, random_state=random_seed).reset_index(drop=True)\n",
    "                selected_class1 = selected_class1.reset_index(drop=True)\n",
    "\n",
    "                for i in range(n_groups):\n",
    "                    start_idx = i * (group_size - 1)\n",
    "                    end_idx = start_idx + (group_size - 1)\n",
    "                    group = pd.concat([\n",
    "                        selected_class1.iloc[[i]],\n",
    "                        split_class_0_shuffled.iloc[start_idx:end_idx]\n",
    "                    ])\n",
    "                    group[\"qid\"] = i\n",
    "                    groups.append(group.sample(frac=1, random_state=random_seed))\n",
    "            else:\n",
    "                # Not enough Class 1 to guarantee, random grouping\n",
    "                data_shuffled = split_df.sample(frac=1, random_state=random_seed).reset_index(drop=True)\n",
    "                for i in range(n_groups):\n",
    "                    start_idx = i * group_size\n",
    "                    end_idx = start_idx + group_size\n",
    "                    group = data_shuffled.iloc[start_idx:end_idx]\n",
    "                    group[\"qid\"] = i\n",
    "                    groups.append(group)\n",
    "\n",
    "            grouped_split_df = pd.concat(groups).reset_index(drop=True)\n",
    "\n",
    "            print(f\"\\nFold: {fold}, Group Size: {group_size}, Split: {split_name}\")\n",
    "            print(f\" Samples: {len(grouped_split_df)}\")\n",
    "            print(\" Class distribution:\", grouped_split_df[\"Class\"].value_counts().to_dict())\n",
    "\n",
    "            os.makedirs(f\"../data/creditcard/fold{fold}/{group_size}\", exist_ok=True)\n",
    "            grouped_split_df.to_csv(f\"../data/creditcard/fold{fold}/{group_size}/{split_name}.csv\", index=False)\n"
   ],
   "metadata": {
    "collapsed": false
   },
   "id": "aea5c5b36be110dd",
   "outputs": [],
   "execution_count": null
  },
  {
   "metadata": {},
   "cell_type": "code",
   "source": "",
   "id": "ad6601f524115b66",
   "outputs": [],
   "execution_count": null
  }
 ],
 "metadata": {
  "kernelspec": {
   "display_name": "Python 3",
   "language": "python",
   "name": "python3"
  },
  "language_info": {
   "codemirror_mode": {
    "name": "ipython",
    "version": 2
   },
   "file_extension": ".py",
   "mimetype": "text/x-python",
   "name": "python",
   "nbconvert_exporter": "python",
   "pygments_lexer": "ipython2",
   "version": "2.7.6"
  }
 },
 "nbformat": 4,
 "nbformat_minor": 5
}
